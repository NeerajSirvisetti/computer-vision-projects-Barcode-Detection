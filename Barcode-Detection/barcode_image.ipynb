{
 "cells": [
  {
   "cell_type": "markdown",
   "metadata": {
    "collapsed": true
   },
   "source": [
    "# Barcode detection in an IMAGE"
   ]
  },
  {
   "cell_type": "markdown",
   "metadata": {},
   "source": [
    "The general outline of the algorithm is to:\n",
    "1. Compute the Scharr gradient magnitude representations in both the x and y direction.\n",
    "2. Subtract the y-gradient from the x-gradient to reveal the barcoded region.\n",
    "3. Blur and threshold the image.\n",
    "4. Apply a closing kernel to the thresholded image.\n",
    "5. Perform a series of dilations and erosions.\n",
    "6. Find the largest contour in the image, which is now presumably the barcode.\n",
    "\n",
    "*It is important to note that since this method makes assumptions regarding the gradient\n",
    " representations of the image, and thus will only work for horizontal barcodes*"
   ]
  },
  {
   "cell_type": "code",
   "execution_count": 1,
   "metadata": {
    "collapsed": true
   },
   "outputs": [],
   "source": [
    "# importing the packages\n",
    "import numpy as np\n",
    "import cv2\n",
    "from matplotlib import pyplot as plt"
   ]
  },
  {
   "cell_type": "code",
   "execution_count": 2,
   "metadata": {
    "collapsed": true
   },
   "outputs": [],
   "source": [
    "#Defining the read function of file path to acquire the image from the specific filepath location\n",
    "def cv_imread(filepath):\n",
    "    cv_img=cv2.imdecode(np.fromfile(filepath, dtype=np.uint8), -1)\n",
    "    return cv_img\n"
   ]
  },
  {
   "cell_type": "code",
   "execution_count": 3,
   "metadata": {},
   "outputs": [
    {
     "name": "stdout",
     "output_type": "stream",
     "text": [
      "name of the image along with format: test.jpeg\n"
     ]
    },
    {
     "data": {
      "text/plain": [
       "-1"
      ]
     },
     "execution_count": 3,
     "metadata": {},
     "output_type": "execute_result"
    }
   ],
   "source": [
    "#loading the image \n",
    "imagename=input('name of the image along with format: ')\n",
    "image = cv_imread('C:/Users/neera/Desktop/barcode detection/'+imagename)#Declaring the file path\n",
    "cv2.imshow(\"Image\", image)\n",
    "cv2.waitKey(0)\n",
    "\n",
    "#converting the image to grayscale\n",
    "gray = cv2.cvtColor(image, cv2.COLOR_BGR2GRAY)\n",
    "cv2.imshow(\"Image\", gray)\n",
    "cv2.waitKey(0)"
   ]
  },
  {
   "cell_type": "markdown",
   "metadata": {},
   "source": [
    "### Image Gradients\n",
    "OpenCV provides three types of gradient filters or High-pass filters\n",
    "1. Sobel\n",
    "2. Schar\n",
    "3. Laplacian\n",
    "\n"
   ]
  },
  {
   "cell_type": "code",
   "execution_count": 4,
   "metadata": {},
   "outputs": [
    {
     "data": {
      "text/plain": [
       "-1"
      ]
     },
     "execution_count": 4,
     "metadata": {},
     "output_type": "execute_result"
    }
   ],
   "source": [
    "# compute the Scharr gradient magnitude representation of the images in both the x and y direction\n",
    "gradX = cv2.Sobel(gray, ddepth = cv2.CV_32F, dx = 1, dy = 0, ksize = -1)\n",
    "gradY = cv2.Sobel(gray, ddepth = cv2.CV_32F, dx = 0, dy = 1, ksize = -1)\n",
    "cv2.imshow(\"Image\", gradX)\n",
    "cv2.waitKey(0)\n",
    "cv2.imshow(\"Image\", gradY)\n",
    "cv2.waitKey(0)"
   ]
  },
  {
   "cell_type": "code",
   "execution_count": 16,
   "metadata": {},
   "outputs": [
    {
     "data": {
      "text/plain": [
       "-1"
      ]
     },
     "execution_count": 16,
     "metadata": {},
     "output_type": "execute_result"
    }
   ],
   "source": [
    "# subtract the y-gradient from the x-gradient\n",
    "gradient = cv2.subtract(gradX, gradY)\n",
    "cv2.imshow(\"Image\", gradient)\n",
    "cv2.waitKey(0)\n",
    "gradient = cv2.convertScaleAbs(gradient)\n",
    "cv2.imshow(\"Image\", gradient)\n",
    "cv2.waitKey(0)"
   ]
  },
  {
   "cell_type": "code",
   "execution_count": 17,
   "metadata": {},
   "outputs": [
    {
     "data": {
      "text/plain": [
       "-1"
      ]
     },
     "execution_count": 17,
     "metadata": {},
     "output_type": "execute_result"
    }
   ],
   "source": [
    "# blur and threshold the image\n",
    "blurred = cv2.blur(gradient, (9, 9))\n",
    "(_, thresh) = cv2.threshold(blurred, 225, 255, cv2.THRESH_BINARY)\n",
    "cv2.imshow(\"Image\",thresh)\n",
    "cv2.waitKey(0)"
   ]
  },
  {
   "cell_type": "code",
   "execution_count": 18,
   "metadata": {},
   "outputs": [
    {
     "data": {
      "text/plain": [
       "-1"
      ]
     },
     "execution_count": 18,
     "metadata": {},
     "output_type": "execute_result"
    }
   ],
   "source": [
    "# construct a closing kernel and apply it to the thresholded image\n",
    "kernel = cv2.getStructuringElement(cv2.MORPH_RECT, (21, 7))\n",
    "closed = cv2.morphologyEx(thresh, cv2.MORPH_CLOSE, kernel)\n",
    "cv2.imshow(\"Image\",closed)\n",
    "cv2.waitKey(0)"
   ]
  },
  {
   "cell_type": "markdown",
   "metadata": {},
   "source": [
    "### Morphological Operations\n",
    "A set of operations that process images based on shapes. Morphological operations apply a structuring element to an input image and generate an output image.\n",
    "\n",
    "*The most basic morphological operations are Erosion and Dilation.* \n",
    "\n",
    "They have a wide array of uses, such as\n",
    "1. Removing noise.\n",
    "2. Isolation of individual elements and joining disparate elements in an image.\n",
    "3. Finding of intensity bumps or holes in an image.\n",
    "\n",
    "#### Dilation\n",
    "1. This operations consists of convolving an image A with some kernel ( B), which can have any shape or size, usually a square or circle.\n",
    "2. The kernel B has a defined anchor point, usually being the center of the kernel.\n",
    "3. As the kernel B is scanned over the image, we compute the maximal pixel value overlapped by B and replace the image pixel in the anchor point position with that maximal value. As you can deduce, this maximizing operation causes bright regions within an image to \"grow\" (therefore the name dilation).\n",
    "4. The dilatation operation is: dst(x,y)=max[(x′,y′):element(x′,y′)≠0]*src(x+x′,y+y′).\n",
    "\n",
    "#### Erosion\n",
    "1. This operation is the sister of dilation. It computes a local minimum over the area of given kernel.\n",
    "2. As the kernel B is scanned over the image, we compute the minimal pixel value overlapped by B and replace the image pixel under the anchor point with that minimal value.\n",
    "3. The erosion operation is: dst(x,y)=min[(x′,y′):element(x′,y′)≠0]*src(x+x′,y+y′)."
   ]
  },
  {
   "cell_type": "code",
   "execution_count": 19,
   "metadata": {},
   "outputs": [
    {
     "data": {
      "text/plain": [
       "-1"
      ]
     },
     "execution_count": 19,
     "metadata": {},
     "output_type": "execute_result"
    }
   ],
   "source": [
    "# perform a series of erosions and dilations\n",
    "closed = cv2.erode(closed, None, iterations = 4)\n",
    "cv2.imshow(\"Image\",closed)\n",
    "cv2.waitKey(0)\n",
    "closed = cv2.dilate(closed, None, iterations = 4)\n",
    "cv2.imshow(\"Image\",closed)\n",
    "cv2.waitKey(0)"
   ]
  },
  {
   "cell_type": "code",
   "execution_count": 21,
   "metadata": {},
   "outputs": [],
   "source": [
    "# find the contours in the thresholded image, then sort the contours\n",
    "# by their area, keeping only the largest one\n",
    "(cnts, _) = cv2.findContours(closed.copy(), cv2.RETR_EXTERNAL,cv2.CHAIN_APPROX_SIMPLE)\n",
    "c = sorted(cnts, key = cv2.contourArea, reverse = True)[0]\n"
   ]
  },
  {
   "cell_type": "code",
   "execution_count": 25,
   "metadata": {},
   "outputs": [],
   "source": [
    "# compute the rotated bounding box of the largest contour\n",
    "rect = cv2.minAreaRect(c)\n",
    "box = np.int0(cv2.boxPoints(rect))\n"
   ]
  },
  {
   "cell_type": "code",
   "execution_count": 33,
   "metadata": {},
   "outputs": [
    {
     "data": {
      "text/plain": [
       "-1"
      ]
     },
     "execution_count": 33,
     "metadata": {},
     "output_type": "execute_result"
    }
   ],
   "source": [
    "# draw a bounding box arounded the detected barcode and display the\n",
    "# image\n",
    "cv2.drawContours(image, [box], -1, (0, 255, 0), 3)\n",
    "cv2.imshow(\"Image\", image)\n",
    "cv2.waitKey(0)"
   ]
  },
  {
   "cell_type": "code",
   "execution_count": null,
   "metadata": {
    "collapsed": true
   },
   "outputs": [],
   "source": []
  },
  {
   "cell_type": "code",
   "execution_count": null,
   "metadata": {
    "collapsed": true
   },
   "outputs": [],
   "source": []
  }
 ],
 "metadata": {
  "kernelspec": {
   "display_name": "Python 3",
   "language": "python",
   "name": "python3"
  },
  "language_info": {
   "codemirror_mode": {
    "name": "ipython",
    "version": 3
   },
   "file_extension": ".py",
   "mimetype": "text/x-python",
   "name": "python",
   "nbconvert_exporter": "python",
   "pygments_lexer": "ipython3",
   "version": "3.6.1"
  }
 },
 "nbformat": 4,
 "nbformat_minor": 2
}
